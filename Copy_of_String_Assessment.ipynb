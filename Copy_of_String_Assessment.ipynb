{
  "nbformat": 4,
  "nbformat_minor": 0,
  "metadata": {
    "colab": {
      "provenance": [],
      "include_colab_link": true
    },
    "kernelspec": {
      "name": "python3",
      "display_name": "Python 3"
    },
    "language_info": {
      "name": "python"
    }
  },
  "cells": [
    {
      "cell_type": "markdown",
      "metadata": {
        "id": "view-in-github",
        "colab_type": "text"
      },
      "source": [
        "<a href=\"https://colab.research.google.com/github/Samith116/PythonBasics/blob/main/Copy_of_String_Assessment.ipynb\" target=\"_parent\"><img src=\"https://colab.research.google.com/assets/colab-badge.svg\" alt=\"Open In Colab\"/></a>"
      ]
    },
    {
      "cell_type": "markdown",
      "source": [
        "## how would you confimm that two strings have the same identity?"
      ],
      "metadata": {
        "id": "eh5Ph74_HqpD"
      }
    },
    {
      "cell_type": "code",
      "source": [
        "# using is identity operator\n",
        "def identity (a, b):\n",
        "    if a is b:\n",
        "        print(\"similar string\")\n",
        "    else:\n",
        "        print(\"not similar string\")\n",
        "identity (\"abc\",\"abc\")\n",
        "identity (\"hello\",\"Hello\")"
      ],
      "metadata": {
        "id": "oERbt__VktUg",
        "colab": {
          "base_uri": "https://localhost:8080/"
        },
        "outputId": "481c6bb3-3486-4755-d677-8e8e678394b1"
      },
      "execution_count": 9,
      "outputs": [
        {
          "output_type": "stream",
          "name": "stdout",
          "text": [
            "similar string\n",
            "not similar string\n"
          ]
        }
      ]
    },
    {
      "cell_type": "markdown",
      "source": [
        "## How to find the length and index of the string?"
      ],
      "metadata": {
        "id": "duytPz1XIvDx"
      }
    },
    {
      "cell_type": "code",
      "source": [
        "\n",
        "#using len() built in function\n",
        "a=\"hello world\"\n",
        "print(\"length :\",len(a))\n",
        "#using find() built in function of string\n",
        "b=\"rld\"\n",
        "print(\"index :\",a.find(b))\n",
        "#using index() build in function of string\n",
        "print(\"index :\",a.index(b))"
      ],
      "metadata": {
        "id": "cuEJ9hZ_S4df",
        "colab": {
          "base_uri": "https://localhost:8080/"
        },
        "outputId": "7f9c255b-e49d-475d-82f7-63204dc80f24"
      },
      "execution_count": 10,
      "outputs": [
        {
          "output_type": "stream",
          "name": "stdout",
          "text": [
            "length : 11\n",
            "index : 8\n",
            "index : 8\n"
          ]
        }
      ]
    },
    {
      "cell_type": "markdown",
      "source": [
        "## how to check a string contain a specific substring"
      ],
      "metadata": {
        "id": "EGK-LzalIO_i"
      }
    },
    {
      "cell_type": "code",
      "source": [
        "\n",
        "#using 'in' membership operator\n",
        "def membership (a, b):\n",
        "    if b in a:\n",
        "        print(\"yes\")\n",
        "    else:\n",
        "        print(\"no\")\n",
        "a=\"hello world\"\n",
        "b=\"o wo\"\n",
        "c=\"lla\"\n",
        "membership (a, b)\n",
        "membership (a, c)"
      ],
      "metadata": {
        "id": "g1HYIC9gJ7Vi",
        "colab": {
          "base_uri": "https://localhost:8080/"
        },
        "outputId": "5f4ac532-7f69-4d59-b44d-cd328793db25"
      },
      "execution_count": 11,
      "outputs": [
        {
          "output_type": "stream",
          "name": "stdout",
          "text": [
            "yes\n",
            "no\n"
          ]
        }
      ]
    },
    {
      "cell_type": "markdown",
      "source": [
        "## how to a take a string from backward with two step difference?\n"
      ],
      "metadata": {
        "id": "LmY6RXjoJF9h"
      }
    },
    {
      "cell_type": "code",
      "source": [
        "\n",
        "#using slicing\n",
        "a=\"hello world\"\n",
        "backward_with_diff2=a[: :-2]\n",
        "print(backward_with_diff2)"
      ],
      "metadata": {
        "id": "_C_pqVqBJ8AA",
        "colab": {
          "base_uri": "https://localhost:8080/"
        },
        "outputId": "c0a26053-114f-4df6-e990-af6e0e701788"
      },
      "execution_count": 12,
      "outputs": [
        {
          "output_type": "stream",
          "name": "stdout",
          "text": [
            "drwolh\n"
          ]
        }
      ]
    },
    {
      "cell_type": "markdown",
      "source": [
        "## how to find the index of the last element"
      ],
      "metadata": {
        "id": "7eg6JfyuJr_2"
      }
    },
    {
      "cell_type": "code",
      "source": [
        "\n",
        "#using len() built in function\n",
        "a=\"0123456789\"\n",
        "print(\"last element:\",a[len(a)-1])"
      ],
      "metadata": {
        "id": "T84ODp77J8zR",
        "colab": {
          "base_uri": "https://localhost:8080/"
        },
        "outputId": "5a7e5d17-23e4-49b4-edf0-ffafe4f8dd9f"
      },
      "execution_count": 13,
      "outputs": [
        {
          "output_type": "stream",
          "name": "stdout",
          "text": [
            "last element: 9\n"
          ]
        }
      ]
    },
    {
      "cell_type": "markdown",
      "source": [
        "## Write 2 ways to concatinate the string"
      ],
      "metadata": {
        "id": "FTdxvLc1J0lv"
      }
    },
    {
      "cell_type": "code",
      "source": [
        "\n",
        "#using arithmetic '+' operator\n",
        "a=\"hello\"\n",
        "b=\"world\"\n",
        "concated=a+\" \"+b\n",
        "print (\"concated :\",concated)\n",
        "#using assignment '+=' operator\n",
        "a+=\" \"\n",
        "a+=b\n",
        "print(\"concated :\",a)"
      ],
      "metadata": {
        "id": "j8P9ODeTJ9Zz",
        "colab": {
          "base_uri": "https://localhost:8080/"
        },
        "outputId": "836ebd93-ec4c-4aa3-a418-d292a5712269"
      },
      "execution_count": 14,
      "outputs": [
        {
          "output_type": "stream",
          "name": "stdout",
          "text": [
            "concated : hello world\n",
            "concated : hello world\n"
          ]
        }
      ]
    }
  ]
}