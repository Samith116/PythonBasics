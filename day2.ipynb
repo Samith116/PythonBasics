{
  "nbformat": 4,
  "nbformat_minor": 0,
  "metadata": {
    "colab": {
      "provenance": [],
      "include_colab_link": true
    },
    "kernelspec": {
      "name": "python3",
      "display_name": "Python 3"
    },
    "language_info": {
      "name": "python"
    }
  },
  "cells": [
    {
      "cell_type": "markdown",
      "metadata": {
        "id": "view-in-github",
        "colab_type": "text"
      },
      "source": [
        "<a href=\"https://colab.research.google.com/github/Samith116/PythonBasics/blob/main/day2.ipynb\" target=\"_parent\"><img src=\"https://colab.research.google.com/assets/colab-badge.svg\" alt=\"Open In Colab\"/></a>"
      ]
    },
    {
      "cell_type": "markdown",
      "source": [
        "## 1.Difference between the list and tuple?"
      ],
      "metadata": {
        "id": "HN6tCq60j2mQ"
      }
    },
    {
      "cell_type": "code",
      "source": [
        "#list is a mutable data structure means which the values of its can be changed\n",
        "#tuple is immutable data structure means which the values of its can not be changed\n",
        "l=[1,2,3,4]\n",
        "l.append(5)\n",
        "print(\"list:\",l)\n",
        "l.pop(0)\n",
        "print(l)\n",
        "t=(1,2,3,4)\n",
        "print(\"tuple:\",t)"
      ],
      "metadata": {
        "id": "Cw8ffkhMk6RQ",
        "colab": {
          "base_uri": "https://localhost:8080/"
        },
        "outputId": "99e6a20a-d148-4d45-c3be-5d61151f0229"
      },
      "execution_count": 1,
      "outputs": [
        {
          "output_type": "stream",
          "name": "stdout",
          "text": [
            "list: [1, 2, 3, 4, 5]\n",
            "[2, 3, 4, 5]\n",
            "tuple: (1, 2, 3, 4)\n"
          ]
        }
      ]
    },
    {
      "cell_type": "markdown",
      "source": [
        "## 2.How list is different from an array"
      ],
      "metadata": {
        "id": "uWhJG7hzk6Ov"
      }
    },
    {
      "cell_type": "code",
      "source": [
        "#list can store heterogeneous data type values\n",
        "#array can only store homogeneous data type values\n",
        "l=[1,2.7,\"abc\",True]\n",
        "print(\"list:\",l)\n",
        "import numpy as np\n",
        "arr=np.array([1,2,3,4,5])\n",
        "print(\"array:\",arr)"
      ],
      "metadata": {
        "id": "MowyCcINo4Mn",
        "colab": {
          "base_uri": "https://localhost:8080/"
        },
        "outputId": "6b0e9630-8b02-434e-e838-9ef1bb9429be"
      },
      "execution_count": 2,
      "outputs": [
        {
          "output_type": "stream",
          "name": "stdout",
          "text": [
            "list: [1, 2.7, 'abc', True]\n",
            "array: [1 2 3 4 5]\n"
          ]
        }
      ]
    },
    {
      "cell_type": "markdown",
      "source": [],
      "metadata": {
        "id": "1uPEIFbxmQwt"
      }
    },
    {
      "cell_type": "markdown",
      "source": [
        "## 3. Use the python list append(),copy(), clear, count, extends(), index(), insert(), pop(), reverse(), sort(), min(), max(),and sum()"
      ],
      "metadata": {
        "id": "_0Rn7JQSk6M1"
      }
    },
    {
      "cell_type": "code",
      "source": [
        "l=[1,2,2,3,4]\n",
        "l.append(10)\n",
        "print(\"append:\",l)\n",
        "l2=l.copy()\n",
        "print(\"copy:\",l2)\n",
        "l2.clear()\n",
        "print(\"clear:\",l2)\n",
        "print(\"count:\",l.count(2))\n",
        "l3=['a','b','c']\n",
        "l.extend(l3)\n",
        "print(\"extend:\",l)\n",
        "print(\"index of a:\",l.index('a'))\n",
        "l.insert(3,True)\n",
        "print(\"insert:\",l)\n",
        "print(\"pop:\",l.pop())\n",
        "l.reverse()\n",
        "print(\"reverse:\",l)\n",
        "l4=[4,2,9,5,6,1]\n",
        "l4.sort()\n",
        "print(\"sort:\",l4)\n",
        "print(\"min:\",min(l4))\n",
        "print(\"max:\",max(l4))\n",
        "print(\"sum:\",sum(l4))"
      ],
      "metadata": {
        "colab": {
          "base_uri": "https://localhost:8080/"
        },
        "id": "9LEPDwdUADfi",
        "outputId": "37483a79-ac3d-4182-acf2-83a4a310ad16"
      },
      "execution_count": 3,
      "outputs": [
        {
          "output_type": "stream",
          "name": "stdout",
          "text": [
            "append: [1, 2, 2, 3, 4, 10]\n",
            "copy: [1, 2, 2, 3, 4, 10]\n",
            "clear: []\n",
            "count: 2\n",
            "extend: [1, 2, 2, 3, 4, 10, 'a', 'b', 'c']\n",
            "index of a: 6\n",
            "insert: [1, 2, 2, True, 3, 4, 10, 'a', 'b', 'c']\n",
            "pop: c\n",
            "reverse: ['b', 'a', 10, 4, 3, True, 2, 2, 1]\n",
            "sort: [1, 2, 4, 5, 6, 9]\n",
            "min: 1\n",
            "max: 9\n",
            "sum: 27\n"
          ]
        }
      ]
    },
    {
      "cell_type": "markdown",
      "source": [
        "## 4, How would you divide the list into two parts?"
      ],
      "metadata": {
        "id": "W9xfjUWak6J_"
      }
    },
    {
      "cell_type": "code",
      "source": [
        "l=[1,2,3,'a','b','c']\n",
        "first_l=l[:len(l)//2]\n",
        "second_l=l[len(l)//2:]\n",
        "print(\"First half:\",first_l,\"\\nsecond half:\",second_l)"
      ],
      "metadata": {
        "colab": {
          "base_uri": "https://localhost:8080/"
        },
        "id": "6eI35l3GCgkL",
        "outputId": "e3433808-225b-4aaf-d6f3-510e2ae9432e"
      },
      "execution_count": 4,
      "outputs": [
        {
          "output_type": "stream",
          "name": "stdout",
          "text": [
            "First half: [1, 2, 3] \n",
            "second half: ['a', 'b', 'c']\n"
          ]
        }
      ]
    },
    {
      "cell_type": "markdown",
      "source": [
        "## 5. how to filter the multiple of 3 from a given list and them remove the odd number from the new filtered list.\n",
        "Eg A = [1,2,3,4,5,6,7,8,9,21,23,24]\n",
        "Filter_lsit = [3,6,9,21,24]\n",
        "output_list = [6,24]"
      ],
      "metadata": {
        "id": "Qb1mVGfnk6G5"
      }
    },
    {
      "cell_type": "code",
      "source": [
        "l=[1,2,3,4,6,9,11,12,14,15]\n",
        "filter_l=[i for i in l if i%3==0]\n",
        "print(\"Fileter list:\",filter_l)\n",
        "output_l=[i for i in filter_l if i%2==0]\n",
        "print(\"output list:\",output_l)"
      ],
      "metadata": {
        "colab": {
          "base_uri": "https://localhost:8080/"
        },
        "id": "rKeY-o_HEPOv",
        "outputId": "90975038-0a96-428c-d29a-306ffe79327c"
      },
      "execution_count": 5,
      "outputs": [
        {
          "output_type": "stream",
          "name": "stdout",
          "text": [
            "Fileter list: [3, 6, 9, 12, 15]\n",
            "output list: [6, 12]\n"
          ]
        }
      ]
    },
    {
      "cell_type": "markdown",
      "source": [
        "## 6. How you can access keys and values simultaneously and update its value"
      ],
      "metadata": {
        "id": "auhYyjixk6FD"
      }
    },
    {
      "cell_type": "code",
      "source": [
        "d={'a':1,'b':2,'c':3}\n",
        "for key,value in d.items():\n",
        "  print(key,\":\",value)\n",
        "  d[key]=value*10\n",
        "  print(\"updated value:\",key,\":\",value)"
      ],
      "metadata": {
        "colab": {
          "base_uri": "https://localhost:8080/"
        },
        "id": "JOKPQfHaFY4X",
        "outputId": "1ce28251-2b48-445a-bf04-68e75c30c4bd"
      },
      "execution_count": 6,
      "outputs": [
        {
          "output_type": "stream",
          "name": "stdout",
          "text": [
            "a : 1\n",
            "updated value: a : 1\n",
            "b : 2\n",
            "updated value: b : 2\n",
            "c : 3\n",
            "updated value: c : 3\n"
          ]
        }
      ]
    },
    {
      "cell_type": "markdown",
      "source": [
        "## 7. Write python program to join, merge, concatente the two dictionaries..\n"
      ],
      "metadata": {
        "id": "vV00n0awk5_G"
      }
    },
    {
      "cell_type": "code",
      "source": [
        "dic1={'a':1,'b':2}\n",
        "dic2={'c':3,'d':4}\n",
        "dic1.update(dic2)\n",
        "print(dic1)"
      ],
      "metadata": {
        "colab": {
          "base_uri": "https://localhost:8080/"
        },
        "id": "0uUw7RkoGPn3",
        "outputId": "1dbd297c-d951-4f92-df6e-9279c480a98a"
      },
      "execution_count": 7,
      "outputs": [
        {
          "output_type": "stream",
          "name": "stdout",
          "text": [
            "{'a': 1, 'b': 2, 'c': 3, 'd': 4}\n"
          ]
        }
      ]
    },
    {
      "cell_type": "markdown",
      "source": [
        "## 8. How would you check a specific keys from the dictionary??\n"
      ],
      "metadata": {
        "id": "Z_7dpypWnQ-z"
      }
    },
    {
      "cell_type": "code",
      "source": [
        "dic1={'a':1,'b':2,'c':3}\n",
        "def check(key):\n",
        "  if key in dic1.keys():\n",
        "    print(\"yes\")\n",
        "  else:\n",
        "    print(\"no\")\n",
        "check('a')\n",
        "check(1)"
      ],
      "metadata": {
        "colab": {
          "base_uri": "https://localhost:8080/"
        },
        "id": "ZqbDRuVVHQEc",
        "outputId": "39143d0d-481e-431d-e619-c0895e1e18a3"
      },
      "execution_count": 8,
      "outputs": [
        {
          "output_type": "stream",
          "name": "stdout",
          "text": [
            "yes\n",
            "no\n"
          ]
        }
      ]
    },
    {
      "cell_type": "markdown",
      "source": [
        "## 9. write a python program to find the unique vowel present in the sentence"
      ],
      "metadata": {
        "id": "EjxeB4ntnirH"
      }
    },
    {
      "cell_type": "code",
      "source": [
        "a=\"hello world\"\n",
        "vow='aeiou'\n",
        "d1={}\n",
        "for i in a:\n",
        "  if i in vow:\n",
        "    if i in d1.keys():\n",
        "      d1[i]+=1\n",
        "    else:\n",
        "      d1[i]=1\n",
        "for i in d1.keys():\n",
        "  if d1[i]==1:\n",
        "    print(i)"
      ],
      "metadata": {
        "colab": {
          "base_uri": "https://localhost:8080/"
        },
        "id": "KotB1PUWH3Gl",
        "outputId": "a380c36a-659a-4a11-ba43-d39c7bc2e5f5"
      },
      "execution_count": 9,
      "outputs": [
        {
          "output_type": "stream",
          "name": "stdout",
          "text": [
            "e\n"
          ]
        }
      ]
    },
    {
      "cell_type": "markdown",
      "source": [
        "## 10. We know that tuple is immutable, do any thing and add element to the tuples."
      ],
      "metadata": {
        "id": "B1VBImcfns6V"
      }
    },
    {
      "cell_type": "code",
      "source": [
        "t1=(1,2,3,4)\n",
        "t1+=(5,6,7)\n",
        "print(\"tuple with added elements:\",t1)"
      ],
      "metadata": {
        "colab": {
          "base_uri": "https://localhost:8080/"
        },
        "id": "XRASJc5fJ7VN",
        "outputId": "7086cef0-6099-4c37-bf37-99649c4e3ab3"
      },
      "execution_count": 10,
      "outputs": [
        {
          "output_type": "stream",
          "name": "stdout",
          "text": [
            "tuple with added elements: (1, 2, 3, 4, 5, 6, 7)\n"
          ]
        }
      ]
    },
    {
      "cell_type": "markdown",
      "source": [
        "## 11. How would you sum the list of tuple and sum of tuple of list\n",
        "list  = [(2,3),(4,5),(6,4)]\n",
        "output= [5,9,10]\n",
        "\n",
        "tuple  =([2,3],[4,5],[6,4])\n",
        "output  =  (5,9,10)"
      ],
      "metadata": {
        "id": "Yd7tDQHuoGFm"
      }
    },
    {
      "cell_type": "code",
      "source": [
        "l1=[(1,2,3),(3,4),(5,3,8)]\n",
        "out=[]\n",
        "for i in l1:\n",
        "  sum=0\n",
        "  for j in i:\n",
        "    sum+=j\n",
        "  out.append(sum)\n",
        "print(\"output of list of tuples:\",out)\n",
        "out.clear()\n",
        "t1=([1,2,3],[8,2],[4,7,0])\n",
        "for i in t1:\n",
        "  sum=0\n",
        "  for j in i:\n",
        "    sum+=j\n",
        "  out.append(sum)\n",
        "print(\"output of tuple of lists:\",out)"
      ],
      "metadata": {
        "colab": {
          "base_uri": "https://localhost:8080/"
        },
        "id": "EebdbKSXLQZW",
        "outputId": "b6108f58-a557-4f93-fcc4-dbdaddb966ca"
      },
      "execution_count": 11,
      "outputs": [
        {
          "output_type": "stream",
          "name": "stdout",
          "text": [
            "output of list of tuples: [6, 7, 16]\n",
            "output of tuple of lists: [6, 10, 11]\n"
          ]
        }
      ]
    },
    {
      "cell_type": "markdown",
      "source": [
        "## 12. FIND THE FREQUENCY OF THE KEYS IN THE GIVEN DICTIONARY"
      ],
      "metadata": {
        "id": "YiXg_vDpoq7X"
      }
    },
    {
      "cell_type": "code",
      "source": [
        "d1={'a':2,'b':3,'c':2,'d':3,'e':2,'f':1}\n",
        "l=list(d1.values())\n",
        "d2={}\n",
        "for i in l:\n",
        "  if i in d2.keys():\n",
        "    d2[i]+=1\n",
        "  else:\n",
        "    d2[i]=1\n",
        "print(d2)"
      ],
      "metadata": {
        "colab": {
          "base_uri": "https://localhost:8080/"
        },
        "id": "feNiC3VLMH9_",
        "outputId": "9ebddfda-cfe0-4147-984a-37d8e43b3070"
      },
      "execution_count": 12,
      "outputs": [
        {
          "output_type": "stream",
          "name": "stdout",
          "text": [
            "{2: 3, 3: 2, 1: 1}\n"
          ]
        }
      ]
    }
  ]
}